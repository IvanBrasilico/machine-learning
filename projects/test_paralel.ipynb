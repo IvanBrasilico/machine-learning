{
 "cells": [
  {
   "cell_type": "code",
   "execution_count": 32,
   "metadata": {},
   "outputs": [],
   "source": [
    "import os\n",
    "import numpy as np\n",
    "\n",
    "from sklearn.ensemble import RandomForestRegressor\n",
    "from sklearn.externals import joblib\n",
    "from time import time\n"
   ]
  },
  {
   "cell_type": "code",
   "execution_count": 33,
   "metadata": {},
   "outputs": [],
   "source": [
    "N_BINS = 16\n",
    "BASE_PATH = os.path.join('/home', 'ivan', 'pybr', 'ajna', 'padma', 'padma', 'models', 'peso')\n",
    "HIST_FILE = os.path.join(BASE_PATH, 'histo.npy')\n",
    "LABEL_FILE = os.path.join(BASE_PATH, 'label.npy')\n",
    "MODEL_FILE = os.path.join(BASE_PATH, 'ForestPeso.pkl')"
   ]
  },
  {
   "cell_type": "code",
   "execution_count": 34,
   "metadata": {},
   "outputs": [
    {
     "name": "stderr",
     "output_type": "stream",
     "text": [
      "/home/ivan/.local/lib/python3.5/site-packages/sklearn/base.py:251: UserWarning: Trying to unpickle estimator DecisionTreeRegressor from version 0.19.1 when using version 0.20.2. This might lead to breaking code or invalid results. Use at your own risk.\n",
      "  UserWarning)\n",
      "/home/ivan/.local/lib/python3.5/site-packages/sklearn/base.py:251: UserWarning: Trying to unpickle estimator RandomForestRegressor from version 0.19.1 when using version 0.20.2. This might lead to breaking code or invalid results. Use at your own risk.\n",
      "  UserWarning)\n"
     ]
    }
   ],
   "source": [
    "rf = joblib.load(MODEL_FILE)\n",
    "with open(HIST_FILE, 'rb') as pkl:\n",
    "    histograms = np.load(pkl)"
   ]
  },
  {
   "cell_type": "code",
   "execution_count": 35,
   "metadata": {},
   "outputs": [
    {
     "data": {
      "text/plain": [
       "(3468, 15)"
      ]
     },
     "execution_count": 35,
     "metadata": {},
     "output_type": "execute_result"
    }
   ],
   "source": [
    "histograms.shape"
   ]
  },
  {
   "cell_type": "code",
   "execution_count": 36,
   "metadata": {},
   "outputs": [
    {
     "name": "stdout",
     "output_type": "stream",
     "text": [
      "1\n",
      "0.008371114730834961\n",
      "0.007712125778198242\n",
      "0.00739598274230957\n",
      "0.00814056396484375\n",
      "0.0049114227294921875\n",
      "0.004582643508911133\n",
      "0.005251646041870117\n",
      "0.0045185089111328125\n",
      "0.003993988037109375\n",
      "0.004611968994140625\n"
     ]
    }
   ],
   "source": [
    "print(rf.n_jobs)\n",
    "rf.n_jobs = 1\n",
    "for s in range(10):\n",
    "    s0 = time()\n",
    "    rf.predict(histograms)\n",
    "    print(time() - s0)"
   ]
  },
  {
   "cell_type": "code",
   "execution_count": 37,
   "metadata": {},
   "outputs": [
    {
     "name": "stdout",
     "output_type": "stream",
     "text": [
      "0.10934329032897949\n",
      "0.10685420036315918\n",
      "0.10652756690979004\n",
      "0.10821294784545898\n",
      "0.10613584518432617\n",
      "0.1071615219116211\n",
      "0.1060936450958252\n",
      "0.10862469673156738\n",
      "0.1046760082244873\n",
      "0.10924577713012695\n"
     ]
    }
   ],
   "source": [
    "rf.n_jobs = -1\n",
    "for s in range(10):\n",
    "    s0 = time()\n",
    "    rf.predict(histograms)\n",
    "    print(time() - s0)"
   ]
  },
  {
   "cell_type": "code",
   "execution_count": null,
   "metadata": {},
   "outputs": [],
   "source": []
  },
  {
   "cell_type": "code",
   "execution_count": null,
   "metadata": {},
   "outputs": [],
   "source": []
  }
 ],
 "metadata": {
  "kernelspec": {
   "display_name": "Python 3",
   "language": "python",
   "name": "python3"
  },
  "language_info": {
   "codemirror_mode": {
    "name": "ipython",
    "version": 3
   },
   "file_extension": ".py",
   "mimetype": "text/x-python",
   "name": "python",
   "nbconvert_exporter": "python",
   "pygments_lexer": "ipython3",
   "version": "3.5.2"
  }
 },
 "nbformat": 4,
 "nbformat_minor": 2
}
